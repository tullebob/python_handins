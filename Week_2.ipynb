{
 "cells": [
  {
   "cell_type": "markdown",
   "metadata": {},
   "source": [
    "# Week 2 handin"
   ]
  },
  {
   "cell_type": "markdown",
   "metadata": {},
   "source": [
    "## Assignment\n",
    "\n",
    "## Exercise 1\n",
    "1. Create a python file with 3 functions:\n",
    "  1. `def print_file_content(file)` that can print content of a csv file to the console\n",
    "  2. `def write_list_to_file(output_file, lst)` that can take a list of tuple and write each element to a new line in file\n",
    "    1. rewrite the function so that it gets an arbitrary number of strings instead of a list\n",
    "  3. `def read_csv(input_file)` that take a csv file and read each row into a list\n",
    "2. Add a functionality so that the file can be called from cli with 2 arguments\n",
    "  1. path to csv file\n",
    "  2. an argument `--file file_name` that if given will write the content to file_name or otherwise will print it to the console.\n",
    "3. Add a --help cli argument to describe how the module is used  \n",
    "\n",
    "## Exercise 2\n",
    "Create a module called utils.py with the following 5 functions:\n",
    "\n",
    "```python\n",
    "def get_file_names(folderpath,out=output.txt):\n",
    "    \"\"\" takes a path to a folder and writes all filenames in the folder to a specified output file\"\"\"\n",
    "\n",
    "def get_all_file_names(folderpath,out=output.txt):\n",
    "    \"\"\"takes a path to a folder and write all filenames recursively (files of all sub folders to)\"\"\"\n",
    "\n",
    "def print_line_one(file_names):\n",
    "    \"\"\"takes a list of filenames and print the first line of each\"\"\"\n",
    "\n",
    "def print_emails(file_names):\n",
    "    \"\"\"takes a list of filenames and print each line that contains an email (just look for @)\"\"\"\n",
    "\n",
    "def write_headlines(md_files, out=output.txt):\n",
    "    \"\"\"takes a list of md files and writes all headlines (lines starting with #) to a file\"\"\"\n",
    "\n",
    "```\n",
    "Make sure your module can be called both from cli and imported to another module\n",
    "Create a new module that imports utils.py and test each function."
   ]
  },
  {
   "cell_type": "markdown",
   "metadata": {},
   "source": [
    "## Status\n",
    "All functions in exercise 1 is done, but exercise 1C does not work as import, so it's hardcoded in jupyter. Exercise 2 is also done, but I did not complete 2.2. All solutions to the exercises can be found in the folder modules and in the files utils.py / week2.py\n",
    "Exercise 2 however can not be called from cli."
   ]
  },
  {
   "cell_type": "markdown",
   "metadata": {},
   "source": [
    "## Solution part 1"
   ]
  },
  {
   "cell_type": "code",
   "execution_count": 9,
   "metadata": {},
   "outputs": [
    {
     "name": "stdout",
     "output_type": "stream",
     "text": [
      "test 1\n",
      "test 2\n",
      "test 3 \n",
      "Det virker !!\n"
     ]
    }
   ],
   "source": [
    "# 1A - Create a python file that can print content of a csv file to the console\n",
    "from modules.week2 import *\n",
    "print_file_content('modules/data_files/read_file.csv')"
   ]
  },
  {
   "cell_type": "code",
   "execution_count": 10,
   "metadata": {},
   "outputs": [
    {
     "name": "stdout",
     "output_type": "stream",
     "text": [
      "Der er skrevet til filen\n"
     ]
    }
   ],
   "source": [
    "# 1B - def write_list_to_file(output_file, lst) that can take a list of tuple and write each element to a new line in file\n",
    "from modules.week2 import *\n",
    "tupleList = [('test', 1), ('test', 2), ('test', 3)]\n",
    "write_list_to_file('modules/data_files/write_file.csv', tupleList)\n"
   ]
  },
  {
   "cell_type": "code",
   "execution_count": 11,
   "metadata": {},
   "outputs": [
    {
     "name": "stdout",
     "output_type": "stream",
     "text": [
      "['test 1\\n', 'test 2\\n', 'test 3 \\n', 'Det virker !!']\n",
      "['test 1\\n', 'test 2\\n', 'test 3 \\n', 'Det virker !!']\n"
     ]
    }
   ],
   "source": [
    "# 1C - def read_csv(input_file) that take a csv file and read each row into a list\n",
    "from modules.week2 import *\n",
    "read_file('modules/data_files/read_file.csv')\n",
    "# Does not work with import for some reason. But the function copy pasted directly from the same file works, as seen below.\n",
    "\n",
    "def read_file2(input_file):\n",
    "    lines = []\n",
    "    with open (input_file) as file_object:\n",
    "        #lines = list(file)\n",
    "        for line in file_object:\n",
    "            line.strip()\n",
    "            lines.append(line)\n",
    "    print(lines)\n",
    "read_file2('modules/data_files/read_file.csv')"
   ]
  },
  {
   "cell_type": "markdown",
   "metadata": {},
   "source": [
    "## Solution part 2"
   ]
  },
  {
   "cell_type": "code",
   "execution_count": 12,
   "metadata": {},
   "outputs": [
    {
     "name": "stdout",
     "output_type": "stream",
     "text": [
      "['output.txt', 'read_file.csv', 'test_data.csv', 'test_data2.csv', 'write_file.csv']\n",
      "Der er skrevet til filen.\n"
     ]
    }
   ],
   "source": [
    "# 1 - def get_file_names(folderpath,out=output.txt):\n",
    "# \"\"\" takes a path to a folder and writes all filenames in the folder to a specified output file\"\"\"\n",
    "from modules.utils import *\n",
    "path = 'modules/data_files'\n",
    "get_file_names(path, 'modules/data_files/write_file.csv' )"
   ]
  },
  {
   "cell_type": "code",
   "execution_count": null,
   "metadata": {},
   "outputs": [],
   "source": [
    "# 2 - def get_all_file_names(folderpath,out=output.txt):\n",
    "# \"\"\"takes a path to a folder and write all filenames recursively (files of all sub folders to)\"\"\"\n",
    "# NOT done"
   ]
  },
  {
   "cell_type": "code",
   "execution_count": 13,
   "metadata": {},
   "outputs": [
    {
     "name": "stdout",
     "output_type": "stream",
     "text": [
      "File: modules/data_files/test_data.csv: det\n",
      "File: modules/data_files/test_data2.csv: hej\n"
     ]
    }
   ],
   "source": [
    "# 3 - def print_line_one(file_names):\n",
    "# \"\"\"takes a list of filenames and print the first line of each\"\"\"\n",
    "from modules.utils import *\n",
    "print_line_one('modules/data_files/test_data.csv', 'modules/data_files/test_data2.csv')\n"
   ]
  },
  {
   "cell_type": "code",
   "execution_count": 14,
   "metadata": {},
   "outputs": [
    {
     "name": "stdout",
     "output_type": "stream",
     "text": [
      "File: modules/data_files/test_data.csv: email@email.com\n",
      "File: modules/data_files/test_data2.csv: mail@email.dk\n"
     ]
    }
   ],
   "source": [
    "# 4 - def print_emails(file_names):\n",
    "# \"\"\"takes a list of filenames and print each line that contains an email (just look for @)\"\"\"\n",
    "from modules.utils import *\n",
    "print_emails('modules/data_files/test_data.csv', 'modules/data_files/test_data2.csv')"
   ]
  },
  {
   "cell_type": "code",
   "execution_count": null,
   "metadata": {},
   "outputs": [],
   "source": [
    "# 5 - def write_headlines(md_files, out=output.txt):\n",
    "# \"\"\"takes a list of md files and writes all headlines (lines starting with #) to a file\"\"\"\n",
    "# IS done but I dont know how to show it in jupyter. Solution can be seen utils.py\n"
   ]
  }
 ],
 "metadata": {
  "kernelspec": {
   "display_name": "Python 3",
   "language": "python",
   "name": "python3"
  },
  "language_info": {
   "codemirror_mode": {
    "name": "ipython",
    "version": 3
   },
   "file_extension": ".py",
   "mimetype": "text/x-python",
   "name": "python",
   "nbconvert_exporter": "python",
   "pygments_lexer": "ipython3",
   "version": "3.7.6"
  }
 },
 "nbformat": 4,
 "nbformat_minor": 4
}
