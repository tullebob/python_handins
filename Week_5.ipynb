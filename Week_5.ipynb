{
 "cells": [
  {
   "cell_type": "markdown",
   "metadata": {},
   "source": [
    "# Week 2 handin"
   ]
  },
  {
   "cell_type": "markdown",
   "metadata": {},
   "source": [
    "## Ex1 Use data from Danmarks Statistik - Databanken\n",
    "1. Go to https://www.dst.dk/da/Statistik/brug-statistikken/muligheder-i-statistikbanken/api#testkonsol\n",
    "2. Open 'Konsol' and click 'Start Konsol'\n",
    "3. In the console at pt 1: choose 'Retrieve tables', pt 2: choose get request and json format and pt 3: execute:\n",
    "  1. check the result\n",
    "  2. in the code below this same get request is used to get information about all available data tables in 'databanken'. \n",
    "4. Change pt. 1 in the console to 'Retrieve data', pt 2: 'get request' and Table id: 'FOLK1A', format: csv, delimiter: semicolon and click: 'Variable and value codes' and choose some sub categories (Hint: hover over the codes to see their meaning). Finally execute and see what data you get.\n",
    "5. With data aggregation and data visualization answer the following questions:\n",
    "  1. What is the change in pct of divorced danes from 2008 to 2020?\n",
    "  2. Which of the 5 biggest cities has the highest percentage of 'Never Married' in 2020?\n",
    "  3. Show a bar chart of changes in marrital status in Copenhagen from 2008 till now\n",
    "  4. Show 2 plots in same figure: 'Married' and 'Never Married' for all ages in DK in 2020 (Hint: x axis is age from 0-125, y axis is how many people in the 2 categories). Add lengend to show names on graphs\n"
   ]
  },
  {
   "cell_type": "markdown",
   "metadata": {},
   "source": [
    "## Status\n",
    "All exercises in exercise 1 are done. The extra exercise 2 is not done."
   ]
  },
  {
   "cell_type": "markdown",
   "metadata": {},
   "source": [
    "## Solution part 1"
   ]
  },
  {
   "cell_type": "code",
   "execution_count": 165,
   "metadata": {},
   "outputs": [
    {
     "name": "stdout",
     "output_type": "stream",
     "text": [
      "Exercise 5A -What is the change in pct of divorced danes from 2008 to 2020?:  29.435438740486497\n"
     ]
    }
   ],
   "source": [
    "import csv\n",
    "import numpy as np\n",
    "import pandas as pd\n",
    "import requests\n",
    "import matplotlib.pyplot as plt\n",
    "\n",
    "## Exercie 5A - What is the change in pct of divorced danes from 2008 to 2020?\n",
    "def api_to_csv(url, filename):\n",
    "    response = requests.get(url)\n",
    "    fname = response.headers['Content-Disposition'].split('=')[1]\n",
    "    fname = 'modules/data_files/' + filename\n",
    "\n",
    "    if response.ok:  # status_code == 200:\n",
    "        with open(fname, 'wb') as f:\n",
    "            f.write(response.content)   \n",
    "\n",
    "url5a = 'https://api.statbank.dk/v1/data/FOLK1A/CSV?delimiter=Semicolon&Tid=2008K1%2C2021K1&CIVILSTAND=F'\n",
    "filename5a = 'divorced5a.csv'\n",
    "api_to_csv(url5a, filename5a)\n",
    "data5a = pd.read_csv('modules/data_files/divorced5a.csv', delimiter=\";\")\n",
    "##data5a.head()\n",
    "data_skilt = data5a['INDHOLD']\n",
    "##print(data5a.iloc[0,-1])\n",
    "print(\"Exercise 5A -What is the change in pct of divorced danes from 2008 to 2020?: \",((data_skilt[1] - data_skilt[0])/data_skilt[0]) * 100)"
   ]
  },
  {
   "cell_type": "code",
   "execution_count": 170,
   "metadata": {},
   "outputs": [
    {
     "name": "stdout",
     "output_type": "stream",
     "text": [
      "Exercise 5b - Which of the 5 biggest cities has the highest percentage of 'Never Married' in 2020?:  {'København': 65.4896415941411, 'Aalborg': 54.82011764169441, 'Esbjerg': 47.759268558762926, 'Odense': 55.196448433803994, 'Aarhus': 59.942282391885584}\n"
     ]
    },
    {
     "data": {
      "text/plain": [
       "Text(0, 0.5, 'Percent')"
      ]
     },
     "execution_count": 170,
     "metadata": {},
     "output_type": "execute_result"
    },
    {
     "data": {
      "image/png": "[encoded data removed]",
      "text/plain": [
       "<Figure size 432x288 with 1 Axes>"
      ]
     },
     "metadata": {
      "needs_background": "light"
     },
     "output_type": "display_data"
    }
   ],
   "source": [
    "\n",
    "url5b = 'https://api.statbank.dk/v1/data/FOLK1A/CSV?delimiter=Semicolon&Tid=2020K4&OMR%C3%85DE=101%2C851%2C561%2C461%2C751&CIVILSTAND=TOT%2CU'\n",
    "filename5b = 'nevermarried20205b.csv'\n",
    "api_to_csv(url5b, filename5b)\n",
    "\n",
    "def percent(tal1, tal2):\n",
    "    return (tal1/tal2)*100\n",
    "\n",
    "biggest_cities = {1: 'København', 2: 'Aalborg', 3: 'Esbjerg', 4: 'Odense', 5: 'Aarhus'}\n",
    "\n",
    "## Bad solution -- hardcode\n",
    "nevermarried_dict = {}\n",
    "data5b = pd.read_csv('modules/data_files/nevermarried20205b.csv', delimiter=\";\")\n",
    "a = data5b['INDHOLD']\n",
    "i = 1\n",
    "j = 0\n",
    "\n",
    "for n in biggest_cities.values():\n",
    "    nevermarried_dict[n] = (percent(a[i], a[j]))\n",
    "    i += 2\n",
    "    j += 2\n",
    "    \n",
    "\n",
    "    \n",
    "\n",
    "print(\"Exercise 5b - Which of the 5 biggest cities has the highest percentage of 'Never Married' in 2020?: \", nevermarried_dict)\n",
    "sorted_percent = sorted(nevermarried_dict.values())\n",
    "sorted_c = [x for _, x in sorted(zip(nevermarried_dict.values(), nevermarried_dict.keys()))]\n",
    "plt.bar(sorted_c, sorted_percent)\n",
    "plt.xticks(rotation=45, horizontalalignment='right',fontweight='light')\n",
    "plt.xlabel('By')\n",
    "plt.ylabel('Percent')\n",
    "\n",
    "\n",
    "\n"
   ]
  },
  {
   "cell_type": "code",
   "execution_count": 154,
   "metadata": {},
   "outputs": [
    {
     "name": "stdout",
     "output_type": "stream",
     "text": [
      "{0: 102, 1: 232, 2: 424}\n"
     ]
    }
   ],
   "source": []
  },
  {
   "cell_type": "code",
   "execution_count": 7,
   "metadata": {},
   "outputs": [],
   "source": [
    "\n"
   ]
  },
  {
   "cell_type": "code",
   "execution_count": null,
   "metadata": {},
   "outputs": [],
   "source": []
  },
  {
   "cell_type": "code",
   "execution_count": null,
   "metadata": {},
   "outputs": [],
   "source": []
  }
 ],
 "metadata": {
  "kernelspec": {
   "display_name": "Python 3",
   "language": "python",
   "name": "python3"
  },
  "language_info": {
   "codemirror_mode": {
    "name": "ipython",
    "version": 3
   },
   "file_extension": ".py",
   "mimetype": "text/x-python",
   "name": "python",
   "nbconvert_exporter": "python",
   "pygments_lexer": "ipython3",
   "version": "3.7.6"
  }
 },
 "nbformat": 4,
 "nbformat_minor": 4
}
