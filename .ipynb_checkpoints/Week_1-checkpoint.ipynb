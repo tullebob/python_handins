{
 "cells": [
  {
   "cell_type": "markdown",
   "metadata": {},
   "source": [
    "# Week 1 handin"
   ]
  },
  {
   "cell_type": "markdown",
   "metadata": {},
   "source": [
    "## 01 Assignment\n",
    "1. Create 5 list comprehensions to solve the following 5 problems:\n",
    "  1. Iterate a list of names to return a list of the names starting with H\n",
    "  2. In one line create a list of the numbers 1-100 to the power of 3\n",
    "  3. Iterate a list of names to create a list of tuples where the tuples first value is the length of the name and the second is the name\n",
    "  4. Iterate over each character in a string and get only those that are nummeric\n",
    "  5. Using only a list comprehension wrapped in set() get all possible combination from throwing 2 dice (hint use 2 for loops in a single list comprehension)\n",
    "\n",
    "2. Create 2 dictionary comprehensions to solve the following:\n",
    "  1. Iterate a list of names and create a dictionary where key is the name and value is the length of the name\n",
    "  2. Iterate a list of numbers and create a dictionary with {key:value} being {number:squareroot_of_number}\n",
    "\n",
    "3. Extra assignment (This one goes beyond what is covered in the course notebooks. So only do it if you want an extra challenge).\n",
    "  - Progammatically using loops create a small program to produce a dictionary with all the 2 dice throw combinations as keys and their likelyhood in percent as values"
   ]
  },
  {
   "cell_type": "markdown",
   "metadata": {},
   "source": [
    "## 02 Status\n",
    "Exercise 1 and 2 is completed. The extra assignment(3) has not been completed."
   ]
  },
  {
   "cell_type": "markdown",
   "metadata": {},
   "source": [
    "## Exercise 1"
   ]
  },
  {
   "cell_type": "code",
   "execution_count": 2,
   "metadata": {},
   "outputs": [
    {
     "name": "stdout",
     "output_type": "stream",
     "text": [
      "['Mark', 'Emil', 'Henriette', 'Heimdal', 'Alba']\n",
      "['Henriette', 'Heimdal']\n"
     ]
    }
   ],
   "source": [
    "# 1A - Iterate a list of names to return a list of the names starting with H\n",
    "names = ['Mark', 'Emil', 'Henriette', 'Heimdal', 'Alba']\n",
    "print(names)\n",
    "hNames = [idx for idx in names if idx[0] == 'H']\n",
    "print(hNames)"
   ]
  },
  {
   "cell_type": "code",
   "execution_count": 12,
   "metadata": {},
   "outputs": [
    {
     "name": "stdout",
     "output_type": "stream",
     "text": [
      "[1, 8, 27, 64, 125, 216, 343, 512, 729, 1000, 1331, 1728, 2197, 2744, 3375, 4096, 4913, 5832, 6859, 8000, 9261, 10648, 12167, 13824, 15625, 17576, 19683, 21952, 24389, 27000, 29791, 32768, 35937, 39304, 42875, 46656, 50653, 54872, 59319, 64000, 68921, 74088, 79507, 85184, 91125, 97336, 103823, 110592, 117649, 125000, 132651, 140608, 148877, 157464, 166375, 175616, 185193, 195112, 205379, 216000, 226981, 238328, 250047, 262144, 274625, 287496, 300763, 314432, 328509, 343000, 357911, 373248, 389017, 405224, 421875, 438976, 456533, 474552, 493039, 512000, 531441, 551368, 571787, 592704, 614125, 636056, 658503, 681472, 704969, 729000, 753571, 778688, 804357, 830584, 857375, 884736, 912673, 941192, 970299, 1000000]\n"
     ]
    }
   ],
   "source": [
    "# 1B - In one line create a list of the numbers 1-100 to the power of 3\n",
    "numbList = [] \n",
    "for i in range(1,101):\n",
    "    numbList.append(i*i*i)\n",
    "print(numbList)"
   ]
  },
  {
   "cell_type": "code",
   "execution_count": 3,
   "metadata": {},
   "outputs": [
    {
     "name": "stdout",
     "output_type": "stream",
     "text": [
      "[(4, 'Mark'), (4, 'Emil'), (9, 'Henriette'), (7, 'Heimdal'), (4, 'Alba')]\n"
     ]
    }
   ],
   "source": [
    "# 1C - Iterate a list of names to create a list of tuples where the tuples first value is the length of the name and the second is the name\n",
    "tupleList = [(len(name), name) for name in names]\n",
    "print(tupleList)\n"
   ]
  },
  {
   "cell_type": "code",
   "execution_count": 22,
   "metadata": {
    "scrolled": true
   },
   "outputs": [
    {
     "name": "stdout",
     "output_type": "stream",
     "text": [
      "[22, 1998]\n"
     ]
    }
   ],
   "source": [
    "# 1D -  Iterate over each character in a string and get only those that are nummeric\n",
    "myStr = 'Jeg er 22 år, så jeg er født i 1998'\n",
    "onlyNumb = [int(i) for i in myStr.split() if i.isdigit()]\n",
    "print(onlyNumb)"
   ]
  },
  {
   "cell_type": "code",
   "execution_count": 23,
   "metadata": {
    "scrolled": true
   },
   "outputs": [
    {
     "name": "stdout",
     "output_type": "stream",
     "text": [
      "{(1, 3), (6, 6), (5, 6), (2, 1), (6, 2), (1, 6), (5, 1), (2, 5), (1, 2), (3, 3), (5, 5), (4, 4), (6, 3), (1, 5), (3, 6), (2, 2), (4, 1), (1, 1), (6, 4), (3, 2), (2, 6), (5, 4), (4, 5), (5, 2), (1, 4), (2, 3), (4, 2), (6, 5), (3, 5), (5, 3), (4, 6), (6, 1), (3, 1), (4, 3), (3, 4), (2, 4)}\n"
     ]
    }
   ],
   "source": [
    "# 1E -  Using only a list comprehension wrapped in set() get all possible combination from throwing 2 dice (hint use 2 for loops in a single list comprehension)\n",
    "dices = list(range(1,7))\n",
    "\n",
    "roll_combinations = set([(throw1, throw2) for throw1 in dices for throw2 in dices])\n",
    "print(roll_combinations)"
   ]
  },
  {
   "cell_type": "markdown",
   "metadata": {},
   "source": [
    "## Exercise 2"
   ]
  },
  {
   "cell_type": "code",
   "execution_count": 8,
   "metadata": {},
   "outputs": [
    {
     "name": "stdout",
     "output_type": "stream",
     "text": [
      "{'Mark': 4, 'Emil': 4, 'Henriette': 9, 'Heimdal': 7, 'Alba': 4}\n"
     ]
    }
   ],
   "source": [
    "# 2A Iterate a list of names and create a dictionary where key is the name and value is the length of the name\n",
    "names = ['Mark', 'Emil', 'Henriette', 'Heimdal', 'Alba']\n",
    "dicList = {}\n",
    "for name in names:\n",
    "    dicList[name] = len(name)\n",
    "\n",
    "print(dicList)"
   ]
  },
  {
   "cell_type": "code",
   "execution_count": 21,
   "metadata": {},
   "outputs": [
    {
     "name": "stdout",
     "output_type": "stream",
     "text": [
      "{16: 4.0, 25: 5.0, 36: 6.0, 49: 7.0, 64: 8.0, 81: 9.0}\n"
     ]
    }
   ],
   "source": [
    "# 2B - Iterate a list of numbers and create a dictionary with {key:value} being {number:squareroot_of_number}\n",
    "import math\n",
    "numbers = [16, 25, 36, 49, 64, 81]\n",
    "dicNumb = {}\n",
    "for n in numbers:\n",
    "    dicNumb[n] = math.sqrt(n)\n",
    "print(dicNumb)"
   ]
  },
  {
   "cell_type": "code",
   "execution_count": null,
   "metadata": {},
   "outputs": [],
   "source": []
  },
  {
   "cell_type": "code",
   "execution_count": null,
   "metadata": {},
   "outputs": [],
   "source": []
  }
 ],
 "metadata": {
  "kernelspec": {
   "display_name": "Python 3",
   "language": "python",
   "name": "python3"
  },
  "language_info": {
   "codemirror_mode": {
    "name": "ipython",
    "version": 3
   },
   "file_extension": ".py",
   "mimetype": "text/x-python",
   "name": "python",
   "nbconvert_exporter": "python",
   "pygments_lexer": "ipython3",
   "version": "3.7.6"
  }
 },
 "nbformat": 4,
 "nbformat_minor": 4
}
