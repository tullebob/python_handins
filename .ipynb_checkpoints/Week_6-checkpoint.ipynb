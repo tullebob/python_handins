{
 "cells": [
  {
   "cell_type": "markdown",
   "metadata": {},
   "source": [
    "# Week 2 handin"
   ]
  },
  {
   "cell_type": "markdown",
   "metadata": {},
   "source": [
    "## Ex1 Use data from Danmarks Statistik - Databanken\n",
    "1. Go to https://www.dst.dk/da/Statistik/brug-statistikken/muligheder-i-statistikbanken/api#testkonsol\n",
    "2. Open 'Konsol' and click 'Start Konsol'\n",
    "3. In the console at pt 1: choose 'Retrieve tables', pt 2: choose get request and json format and pt 3: execute:\n",
    "  1. check the result\n",
    "  2. in the code below this same get request is used to get information about all available data tables in 'databanken'. \n",
    "4. Change pt. 1 in the console to 'Retrieve data', pt 2: 'get request' and Table id: 'FOLK1A', format: csv, delimiter: semicolon and click: 'Variable and value codes' and choose some sub categories (Hint: hover over the codes to see their meaning). Finally execute and see what data you get.\n",
    "5. With data aggregation and data visualization answer the following questions:\n",
    "  1. What is the change in pct of divorced danes from 2008 to 2020?\n",
    "  2. Which of the 5 biggest cities has the highest percentage of 'Never Married' in 2020?\n",
    "  3. Show a bar chart of changes in marrital status in Copenhagen from 2008 till now\n",
    "  4. Show 2 plots in same figure: 'Married' and 'Never Married' for all ages in DK in 2020 (Hint: x axis is age from 0-125, y axis is how many people in the 2 categories). Add lengend to show names on graphs\n"
   ]
  },
  {
   "cell_type": "markdown",
   "metadata": {},
   "source": [
    "## Status\n",
    "All exercises in exercise 1 are done, except 5D. The extra exercise 2 is not done."
   ]
  },
  {
   "cell_type": "markdown",
   "metadata": {},
   "source": [
    "## Solution part 1"
   ]
  },
  {
   "cell_type": "code",
   "execution_count": 1,
   "metadata": {},
   "outputs": [
    {
     "name": "stdout",
     "output_type": "stream",
     "text": [
      "Exercise 2- download\n",
      "Url downloaded\n",
      "Exercise 3 - multidownload\n",
      "Url downloaded\n",
      "Url downloaded\n",
      "Url downloaded\n",
      "Url downloaded\n",
      "Url downloaded\n",
      "Url downloaded\n",
      "Exercise 7  avg_vowels:  1.6507001868871765\n"
     ]
    }
   ],
   "source": [
    "from modules.textc import TextComparer\n",
    "url_list = {\"https://www.gutenberg.org/files/84/84-0.txt\":\"Frankenstein\", \"https://www.gutenberg.org/files/1342/1342-0.txt\": \"Pride and Prejudice\", \n",
    "           \"https://www.gutenberg.org/files/64317/64317-0.txt\": \"The Great Gatsby\", \"https://www.gutenberg.org/files/11/11-0.txt\": \"Alice’s Adventures in Wonderland\",\n",
    "           \"https://www.gutenberg.org/files/1080/1080-0.txt\": \"A Modest Proposal\", \"https://www.gutenberg.org/files/98/98-0.txt\": 'A Tale of Two Cities' }\n",
    "\n",
    "textc = TextComparer(url_list)\n",
    "print(\"Exercise 2- download\")\n",
    "textc.download('https://www.gutenberg.org/files/1342/1342-0.txt', 'book.txt')\n",
    "print(\"Exercise 3 - multidownload\")\n",
    "textc.multi_download()\n",
    "\n",
    "print(\"Exercise 7 - avg_vowels: \", textc.avg_vowels('modules/data_files/Frankenstein'))\n"
   ]
  },
  {
   "cell_type": "code",
   "execution_count": 2,
   "metadata": {},
   "outputs": [
    {
     "data": {
      "text/plain": [
       "1.6507001868871765"
      ]
     },
     "execution_count": 2,
     "metadata": {},
     "output_type": "execute_result"
    }
   ],
   "source": []
  }
 ],
 "metadata": {
  "kernelspec": {
   "display_name": "Python 3",
   "language": "python",
   "name": "python3"
  },
  "language_info": {
   "codemirror_mode": {
    "name": "ipython",
    "version": 3
   },
   "file_extension": ".py",
   "mimetype": "text/x-python",
   "name": "python",
   "nbconvert_exporter": "python",
   "pygments_lexer": "ipython3",
   "version": "3.7.6"
  }
 },
 "nbformat": 4,
 "nbformat_minor": 4
}
