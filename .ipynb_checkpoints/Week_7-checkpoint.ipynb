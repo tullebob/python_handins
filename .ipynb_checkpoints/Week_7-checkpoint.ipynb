{
 "cells": [
  {
   "cell_type": "markdown",
   "metadata": {},
   "source": [
    "# Week 7 handin"
   ]
  },
  {
   "cell_type": "markdown",
   "metadata": {},
   "source": [
    "# Handin Exercise 7\n",
    "\n",
    "#Opgave 1:\n",
    "Tilgå https://www.just-eat.dk/area/2800-kgs--lyngby/ og gem alle restauranter, hvor “pizza”, “pizzeria” eller “pizzaria” indgår (Tip: tag højde for store og små bogstaver).\n",
    "#Opgave 2:\n",
    "Find “Margherita” med størrelsen “Alm.” og gem priserne for hver restaurant.\n",
    "#Opgave 3:\n",
    "Brug efterfølgende matplotlib-biblioteket til at plotte et bar-chart med restaurant-navnene på x-aksen og margherita-priserne på y-aksen.\n",
    "#Ekstra opgave:\n",
    "Skriv en funktion, der kan tage antallet af restauranter for et postnummer på Just Eat (https://www.just-eat.dk/). Find dernæst antallet af restauranter for postnumrene: 2800, 2300 og 2100.\n"
   ]
  },
  {
   "cell_type": "markdown",
   "metadata": {},
   "source": [
    "## Status\n",
    "TDB update::"
   ]
  },
  {
   "cell_type": "markdown",
   "metadata": {},
   "source": [
    "## Solution part 1"
   ]
  },
  {
   "cell_type": "code",
   "execution_count": 29,
   "metadata": {},
   "outputs": [
    {
     "name": "stdout",
     "output_type": "stream",
     "text": [
      "Exercise 1 - Gem alle restauranter, hvor “pizza”, “pizzeria” eller “pizzaria” indgår:  ['Il Mondo Pizzaria', 'Eda Pizzaria og Burgerhouse', 'Jernbane Pizza Durum Kebab House', 'Mama Rosa Pizzeria', 'La Tinos Pizza', 'Pops Pizza', 'Canaria Pizzaria og Grill', 'Saras Pizzaria ', 'Madhuset Pizza ', 'Miss Pizza', 's La Cucina Pizzaria', 'Nybrogård Pizza ', ' Pizzahouse', 'La Casa Pizza', 'Zetuna Pizzaria ', 'Søndergaard Park Pizzaria', 'La Rosa Pizzaria ', 'Værebro Pizza', 'Pizzahuset', ' Pizzaria', 'Corona Pizza ', ' Pizzabar', 'Simona Pizzeria ', 'Miezio Pizza', 'Buddinge Pizza', 'Itzi Pitzi Pizza', 'Ret Pizzeria', 'La Luna Pizzaria', 'Alanya Pizza ', 'Pizza 2860', 'Esperia Pizza Bar', 'Barletta Pizzeria', 'Pizza Time', 'Pizza Perfetto', 'Il Mondo Pizzaria', 'Eda Pizzaria og Burgerhouse', 'Jernbane Pizza Durum Kebab House', 'Mama Rosa Pizzeria', 'La Tinos Pizza', 'Pops Pizza', 'Canaria Pizzaria og Grill', 'Saras Pizzaria ', 'Madhuset Pizza ', 'Miss Pizza', 's La Cucina Pizzaria', 'Nybrogård Pizza ', ' Pizzahouse', 'La Casa Pizza', 'Zetuna Pizzaria ', 'Søndergaard Park Pizzaria', 'La Rosa Pizzaria ', 'Værebro Pizza', 'Pizzahuset', ' Pizzaria', 'Corona Pizza ', ' Pizzabar', 'Simona Pizzeria ', 'Miezio Pizza', 'Buddinge Pizza', 'Itzi Pitzi Pizza', 'Ret Pizzeria', 'La Luna Pizzaria', 'Alanya Pizza ', 'Pizza 2860', 'Esperia Pizza Bar', 'Barletta Pizzeria', 'Pizza Time', 'Pizza Perfetto']\n",
      "hit\n"
     ]
    }
   ],
   "source": [
    "import requests\n",
    "import bs4\n",
    "import re\n",
    "# to prevent Just-Eat from blocking us...\n",
    "user_agent = \"Mozilla/5.0 (Windows NT 10.0; WOW64) AppleWebKit/537.36 (KHTML, like Gecko) Chrome/79.0.3945.88 Safari/537.37\"\n",
    "data = requests.get('https://www.just-eat.dk/area/2800-kgs--lyngby/', headers={'User-Agent': user_agent})\n",
    "\n",
    "data.raise_for_status()\n",
    "\n",
    "soup = bs4.BeautifulSoup(data.text, 'html.parser')\n",
    "\n",
    "# for some reason, only h3 works. not h3 class=XX or itemprop=\"name\"\n",
    "elements = soup.findAll('h3', attrs= {'class': 'listing-item-title'})\n",
    "    \n",
    "#pizzas = re.compile(r'(Pizza | Pizzaria) (\\w+).+')\n",
    "pizzas = re.compile(r'([\\w ]+)*(Pizza|Pizzeria|Pizzaria)([\\w ]+)*')\n",
    "#test = re.compile(r'[\\w\\.-]+Pizza[\\w\\.-]+', elements)\n",
    "match_obj = pizzas.findall(str(elements))\n",
    "\n",
    "##print('All matches: {}'.format(match_obj))\n",
    "\n",
    "iter_obj = pizzas.finditer(str(elements))\n",
    "\n",
    "for idx,o in enumerate(iter_obj):\n",
    "    pizza_list.append(o.group())\n",
    "print(\"Exercise 1 - Gem alle restauranter, hvor “pizza”, “pizzeria” eller “pizzaria” indgår: \", pizza_list)\n",
    "\n",
    "print(\"hit\")\n",
    "#print(soup.prettify())"
   ]
  },
  {
   "cell_type": "code",
   "execution_count": null,
   "metadata": {},
   "outputs": [
    {
     "name": "stderr",
     "output_type": "stream",
     "text": [
      "IOPub data rate exceeded.\n",
      "The notebook server will temporarily stop sending output\n",
      "to the client in order to avoid crashing it.\n",
      "To change this limit, set the config variable\n",
      "`--NotebookApp.iopub_data_rate_limit`.\n",
      "\n",
      "Current values:\n",
      "NotebookApp.iopub_data_rate_limit=1000000.0 (bytes/sec)\n",
      "NotebookApp.rate_limit_window=3.0 (secs)\n",
      "\n"
     ]
    }
   ],
   "source": [
    "url = 'https://www.just-eat.dk/area/2800-kgs--lyngby/'\n",
    "url2= 'https://www.just-eat.dk/restaurants-mamarosa2830-/menu'\n",
    "restaurant_links = []\n",
    "for a in soup.select('a'):\n",
    "    if (a.get('href') and a.get('href').startswith('/restaurants')):\n",
    "        link = 'https://www.just-eat.dk' + a.get('href')\n",
    "        restaurant_links.append(link)\n",
    "\n",
    "data2 = requests.get(url2, headers={'User-Agent': user_agent} )\n",
    "\n",
    "soup2 = bs4.BeautifulSoup(data2.text, 'html.parser')\n",
    "e2 = soup2.select('div', attrs={'class': 'product-price'})\n",
    "margherita = re.compile(r'Margherita')\n",
    "#print(margherita.findall(str(e2)))\n",
    "print(e2)\n",
    "        \n",
    "margherita_priser = {}\n",
    "def get_margherita_price(url):\n",
    "    r = requests.get(url, headers={'User-Agent': user_agent})\n",
    "    soup = bs4.BeautifulSoup(r.text, 'html.parser')\n",
    "    products = soup.select('h4', attrs= {'class': 'product-title'})\n",
    "    margherita_reg = re.compile(r'Margherita')\n",
    "    price_reg = re.compile(r'(\\d{2})')\n",
    "    for p in products:\n",
    "        if (margherita_reg.search(p.getText()) is not None):\n",
    "            margherita_priser[url] = price_reg.search(p.getText())\n",
    "    \n",
    "for link in restaurant_links:\n",
    "    get_margherita_price(link)\n",
    "\n",
    "print(margherita_priser)\n"
   ]
  }
 ],
 "metadata": {
  "kernelspec": {
   "display_name": "Python 3",
   "language": "python",
   "name": "python3"
  },
  "language_info": {
   "codemirror_mode": {
    "name": "ipython",
    "version": 3
   },
   "file_extension": ".py",
   "mimetype": "text/x-python",
   "name": "python",
   "nbconvert_exporter": "python",
   "pygments_lexer": "ipython3",
   "version": "3.7.6"
  }
 },
 "nbformat": 4,
 "nbformat_minor": 4
}
