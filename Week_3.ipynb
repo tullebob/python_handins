{
 "cells": [
  {
   "cell_type": "markdown",
   "metadata": {},
   "source": [
    "# Week 2 handin"
   ]
  },
  {
   "cell_type": "markdown",
   "metadata": {},
   "source": [
    "## Assignment\n",
    "\n",
    "## Exercise 1\n",
    "1. Create a python file with 3 functions:\n",
    "  1. `def print_file_content(file)` that can print content of a csv file to the console\n",
    "  2. `def write_list_to_file(output_file, lst)` that can take a list of tuple and write each element to a new line in file\n",
    "    1. rewrite the function so that it gets an arbitrary number of strings instead of a list\n",
    "  3. `def read_csv(input_file)` that take a csv file and read each row into a list\n",
    "2. Add a functionality so that the file can be called from cli with 2 arguments\n",
    "  1. path to csv file\n",
    "  2. an argument `--file file_name` that if given will write the content to file_name or otherwise will print it to the console.\n",
    "3. Add a --help cli argument to describe how the module is used  \n",
    "\n",
    "## Exercise 2\n",
    "Create a module called utils.py with the following 5 functions:\n",
    "\n",
    "```python\n",
    "def get_file_names(folderpath,out=output.txt):\n",
    "    \"\"\" takes a path to a folder and writes all filenames in the folder to a specified output file\"\"\"\n",
    "\n",
    "def get_all_file_names(folderpath,out=output.txt):\n",
    "    \"\"\"takes a path to a folder and write all filenames recursively (files of all sub folders to)\"\"\"\n",
    "\n",
    "def print_line_one(file_names):\n",
    "    \"\"\"takes a list of filenames and print the first line of each\"\"\"\n",
    "\n",
    "def print_emails(file_names):\n",
    "    \"\"\"takes a list of filenames and print each line that contains an email (just look for @)\"\"\"\n",
    "\n",
    "def write_headlines(md_files, out=output.txt):\n",
    "    \"\"\"takes a list of md files and writes all headlines (lines starting with #) to a file\"\"\"\n",
    "\n",
    "```\n",
    "Make sure your module can be called both from cli and imported to another module\n",
    "Create a new module that imports utils.py and test each function."
   ]
  },
  {
   "cell_type": "markdown",
   "metadata": {},
   "source": [
    "## Status\n",
    "All functions in exercise 1 is done, but exercise 1C does not work as import, so it's hardcoded in jupyter. Exercise 2 is also done, but I did not complete 2.2. All solutions to the exercises can be found in the folder modules and in the files utils.py / week2.py\n",
    "Exercise 2 however can not be called from cli."
   ]
  },
  {
   "cell_type": "markdown",
   "metadata": {},
   "source": [
    "## Solution part 1"
   ]
  },
  {
   "cell_type": "code",
   "execution_count": 208,
   "metadata": {},
   "outputs": [
    {
     "name": "stdout",
     "output_type": "stream",
     "text": [
      "ROW HERE**** [['Cecilie Nielsen', 'AP', 'Lars Larsen', 40, '4A', 12], ['Cecilie Nielsen', 'AP', 'Lars Larsen', 40, '4A', 12]]\n",
      "Exercise 1.5:  [12, 12]\n",
      "Exercise 1.6:  12.0\n",
      "['AP', '4A', 'Lars Larsen', 40, 12, 'AP', '4A', 'Lars Larsen', 40, 12]\n"
     ]
    }
   ],
   "source": [
    "import random\n",
    "import csv\n",
    "class Student():\n",
    "    def __init__(self, name, gender, data_sheet, image_url ):\n",
    "        self.name = name\n",
    "        self.gender = gender\n",
    "        self.data_sheet = data_sheet\n",
    "        self.image_url = image_url\n",
    "    \n",
    "    def get_avg_grade(self):\n",
    "        avgGrade = 0\n",
    "        grades = self.data_sheet.get_grades_as_list()\n",
    "        for grade in grades:\n",
    "            avgGrade = avgGrade + grade\n",
    "        return avgGrade/len(grades)\n",
    "    \n",
    "    def __str__(self):\n",
    "        return self.name + self.gender\n",
    "\n",
    "\n",
    "\n",
    "class Datasheet():\n",
    "    def __init__(self, courses=[]):\n",
    "        self.courses = courses  \n",
    "\n",
    "    def get_grades_as_list(self):\n",
    "        gradeList = []\n",
    "        for course in self.courses:\n",
    "            gradeList.append(course.grade)\n",
    "        return gradeList\n",
    "    \n",
    "    def get_course(self):\n",
    "        courseInfo = []\n",
    "        for course in self.courses:\n",
    "            courseInfo.append(course.name)\n",
    "            courseInfo.append(course.classroom)\n",
    "            courseInfo.append(course.teacher)\n",
    "            courseInfo.append(course.ETCS)\n",
    "            courseInfo.append(course.grade)\n",
    "        return courseInfo\n",
    "\n",
    "\n",
    "\n",
    "\n",
    "class Course():\n",
    "    def __init__(self, name, classroom, teacher, ETCS, grade=None):\n",
    "        self.name = name\n",
    "        self.classroom = classroom\n",
    "        self.teacher = teacher\n",
    "        self.ETCS = ETCS\n",
    "        if grade is not None:\n",
    "            self.grade = grade\n",
    "\n",
    "def create_student(n):\n",
    "    students = []\n",
    "    names = ['Mark Agaard', 'Cecilie Nielsen', 'Albert Ilga' , 'Freja Lodbo', 'Daniel San', 'Mikkel Grønmark', 'Katrine Lang', 'Camilla Palsin']\n",
    "    genders = ['Male', 'Female']\n",
    "    grades = [-3, 0, 2, 4, 7, 10, 12]\n",
    "    courses = [Course('English', '1A', 'Thorbjørn Alkin', 20, random.choice(grades)), Course('Danish', '2A', 'Signe Vindelbo', 15, random.choice(grades)), Course('Math', '3A', 'Jon Bertelsen', 35, random.choice(grades)), Course('AP', '4A', 'Lars Larsen', 40, random.choice(grades))]\n",
    "    image_urls = ['https://cdn4.vectorstock.com/i/1000x1000/06/18/male-avatar-profile-picture-vector-10210618.jpg',\n",
    "    'https://i1.wp.com/www.donofweb.com/wp-content/uploads/2012/08/animepaper.netavatar-standard-artists-kurehito-misaki-halloween-cant-be-this-cute-188406-yamaro-preview-87bc4fac.jpg',\n",
    "    'https://www.seekpng.com/png/detail/506-5061704_avatar-png.png',\n",
    "    'https://pbs.twimg.com/profile_images/1786517293/faceyourmanga-female-avatar.jpg']\n",
    "    \n",
    "    for i in range(n):\n",
    "        students_courses = []\n",
    "        for j in range(random.randrange(1, len(courses))):\n",
    "            students_courses.append(random.choice(courses))\n",
    "        data_sheet = Datasheet(students_courses)\n",
    "        student = Student(random.choice(names), random.choice(genders), data_sheet, random.choice(image_urls))\n",
    "        students.append(student)\n",
    "        \n",
    "    row = []\n",
    "    filename = \"modules/data_files/random_students.csv\"\n",
    "    fields = ['a', 'b', 'c', 'd', 'e']\n",
    "    for course in student.data_sheet.courses:\n",
    "        tempRow = [course.name, course.teacher, course.ETCS, course.classroom, course.grade]\n",
    "        tempRow.insert(0, student.name)\n",
    "        tmpr\n",
    "        row.append(tempRow)\n",
    "    \n",
    "    print(\"ROW HERE****\", row)\n",
    "    \n",
    "    with open(filename, 'w') as csvfile:\n",
    "        csvwriter = csv.writer(csvfile)\n",
    "        \n",
    "        csvwriter.writerow(fields)\n",
    "            \n",
    "        csvwriter.writerows(row)\n",
    "        \n",
    "    return students\n",
    "\n",
    "students = create_student(1)\n",
    "for student in students:\n",
    "    print(\"Exercise 1.5: \", student.data_sheet.get_grades_as_list())\n",
    "    print(\"Exercise 1.6: \", student.get_avg_grade())\n",
    "    print(student.data_sheet.get_course())\n",
    "    \n",
    "\n",
    "    "
   ]
  },
  {
   "cell_type": "markdown",
   "metadata": {},
   "source": [
    "## Solution part 2"
   ]
  }
 ],
 "metadata": {
  "kernelspec": {
   "display_name": "Python 3",
   "language": "python",
   "name": "python3"
  },
  "language_info": {
   "codemirror_mode": {
    "name": "ipython",
    "version": 3
   },
   "file_extension": ".py",
   "mimetype": "text/x-python",
   "name": "python",
   "nbconvert_exporter": "python",
   "pygments_lexer": "ipython3",
   "version": "3.7.6"
  }
 },
 "nbformat": 4,
 "nbformat_minor": 4
}
