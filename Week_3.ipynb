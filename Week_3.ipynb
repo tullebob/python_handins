{
 "cells": [
  {
   "cell_type": "markdown",
   "metadata": {},
   "source": [
    "# Week 2 handin"
   ]
  },
  {
   "cell_type": "markdown",
   "metadata": {},
   "source": [
    "## Assignment\n",
    "\n",
    "## Exercise 1\n",
    "1. Create 3 classes: Student, DataSheet and Course\n",
    "2. A student has a data_sheet and a data_sheet has multiple courses in particular order\n",
    "3. Each course has name, classroom, teacher, ETCS and optional grade if course is taken.\n",
    "4. In Student create __init__() so that a Student can be initiated with name, gender, data_sheet and image_url\n",
    "5. In DataSheet create a method to get_grades_as_list()\n",
    "6. In student create a method: get_avg_grade()\n",
    "7. Create a function that can generate n number of students with random: name, gender, courses (from a fixed list of course names), grades, img_url\n",
    "   1. Let the function write the result to a csv file with format stud_name, course_name, teacher, ects, classroom, grade, img_url\n",
    "7. Read student data into a list of Students from a csv file: \n",
    "   1. loop through the list and print each student with name, img_url and avg_grade.\n",
    "   2. sort the list by avg_grade\n",
    "   3. create a bar chart with student_name on x and avg_grade on y-axis\n",
    "8. Make a method on Student class that can show progression of the study in % (add up ECTS from all passed courses divided by total of 150 total points (equivalent to 5 semesters))\n",
    "9. Show a bar chart of distribution of study progression on x-axis and number of students in each category on y-axis. (e.g. make 10 categories from 0-100%)"
   ]
  },
  {
   "cell_type": "markdown",
   "metadata": {},
   "source": [
    "## Status\n",
    "All exercises in exercise 1 are done. The extra exercises 2 and 3 is not done."
   ]
  },
  {
   "cell_type": "markdown",
   "metadata": {},
   "source": [
    "## Solution part 1"
   ]
  },
  {
   "cell_type": "code",
   "execution_count": 14,
   "metadata": {},
   "outputs": [
    {
     "name": "stdout",
     "output_type": "stream",
     "text": [
      "Magnus Carlsen Lars Larsen\n",
      "Blondie Jensen Pia Benlo\n",
      "Michael Jackson Elvis Presley\n",
      "Exercise 1.5:  [0]\n",
      "Exercise 1.6:  0.0\n",
      "Exercise 1.7:  Freja Lodbo, Female, ['AP', '4A', 'Lars Larsen', 40, 0], https://pbs.twimg.com/profile_images/1786517293/faceyourmanga-female-avatar.jpg\n"
     ]
    }
   ],
   "source": [
    "import random\n",
    "import csv\n",
    "class Student():\n",
    "    def __init__(self, name, gender, data_sheet, image_url ):\n",
    "        self.name = name\n",
    "        self.gender = gender\n",
    "        self.data_sheet = data_sheet\n",
    "        self.image_url = image_url\n",
    "    \n",
    "    def get_avg_grade(self):\n",
    "        avgGrade = 0\n",
    "        grades = self.data_sheet.get_grades_as_list()\n",
    "        for grade in grades:\n",
    "            avgGrade = avgGrade + grade\n",
    "        return avgGrade/len(grades)\n",
    "    \n",
    "    def __str__(self):\n",
    "        return self.name + self.image_url\n",
    "\n",
    "\n",
    "\n",
    "class Datasheet():\n",
    "    def __init__(self, courses=[]):\n",
    "        self.courses = courses  \n",
    "\n",
    "    def get_grades_as_list(self):\n",
    "        gradeList = []\n",
    "        for course in self.courses:\n",
    "            gradeList.append(course.grade)\n",
    "        return gradeList\n",
    "    \n",
    "    def get_course(self):\n",
    "        courseInfo = []\n",
    "        for course in self.courses:\n",
    "            courseInfo.append(course.name)\n",
    "            courseInfo.append(course.classroom)\n",
    "            courseInfo.append(course.teacher)\n",
    "            courseInfo.append(course.ETCS)\n",
    "            courseInfo.append(course.grade)\n",
    "        return courseInfo\n",
    "\n",
    "\n",
    "\n",
    "\n",
    "class Course():\n",
    "    def __init__(self, name, classroom, teacher, ETCS, grade=None):\n",
    "        self.name = name\n",
    "        self.classroom = classroom\n",
    "        self.teacher = teacher\n",
    "        self.ETCS = ETCS\n",
    "        if grade is not None:\n",
    "            self.grade = grade\n",
    "\n",
    "def create_student(n):\n",
    "    students = []\n",
    "    names = ['Mark Agaard', 'Cecilie Nielsen', 'Albert Ilga' , 'Freja Lodbo', 'Daniel San', 'Mikkel Grønmark', 'Katrine Lang', 'Camilla Palsin']\n",
    "    genders = ['Male', 'Female']\n",
    "    grades = [-3, 0, 2, 4, 7, 10, 12]\n",
    "    courses = [Course('English', '1A', 'Thorbjørn Alkin', 20, random.choice(grades)), Course('Danish', '2A', 'Signe Vindelbo', 15, random.choice(grades)), Course('Math', '3A', 'Jon Bertelsen', 35, random.choice(grades)), Course('AP', '4A', 'Lars Larsen', 40, random.choice(grades))]\n",
    "    image_urls = ['https://cdn4.vectorstock.com/i/1000x1000/06/18/male-avatar-profile-picture-vector-10210618.jpg',\n",
    "    'https://i1.wp.com/www.donofweb.com/wp-content/uploads/2012/08/animepaper.netavatar-standard-artists-kurehito-misaki-halloween-cant-be-this-cute-188406-yamaro-preview-87bc4fac.jpg',\n",
    "    'https://www.seekpng.com/png/detail/506-5061704_avatar-png.png',\n",
    "    'https://pbs.twimg.com/profile_images/1786517293/faceyourmanga-female-avatar.jpg']\n",
    "    \n",
    "    for i in range(n):\n",
    "        students_courses = []\n",
    "        for j in range(random.randrange(1, len(courses))):\n",
    "            students_courses.append(random.choice(courses))\n",
    "        data_sheet = Datasheet(students_courses)\n",
    "        student = Student(random.choice(names), random.choice(genders), data_sheet, random.choice(image_urls))\n",
    "        students.append(student)\n",
    "        \n",
    "    row = []\n",
    "    filename = \"modules/data_files/random_students.csv\"\n",
    "    fields = ['stud_name', 'course_name', 'teacher', 'ects', 'classroom', 'grade', 'img_url']\n",
    "    for student in students:\n",
    "        for course in student.data_sheet.courses:\n",
    "            tmpRow = [course.name, course.teacher, course.ETCS, course.classroom, course.grade]\n",
    "            tmpRow.insert(0, student.name)\n",
    "            tmpRow.append(student.image_url)\n",
    "            row.append(tmpRow)\n",
    "    \n",
    "    \n",
    "    with open(filename, 'w') as csvfile:\n",
    "        csvwriter = csv.writer(csvfile)\n",
    "        \n",
    "        csvwriter.writerow(fields)\n",
    "            \n",
    "        csvwriter.writerows(row)\n",
    "        \n",
    "    return students\n",
    "\n",
    "def read_student_data(file):\n",
    "    students2 = []\n",
    "    with open(file) as f:\n",
    "        reader = csv.reader(f, delimiter=\",\")\n",
    "        for row in reader:\n",
    "            students2.append(Student(row[0], row[1], row[2], row[3]))\n",
    "    return students2\n",
    "            \n",
    "\n",
    "students = create_student(1)\n",
    "students2 = read_student_data(\"modules/data_files/students.csv\")\n",
    "\n",
    "for student in students2:\n",
    "    print(student)\n",
    "\n",
    "for student in students:\n",
    "    print(\"Exercise 1.5: \", student.data_sheet.get_grades_as_list())\n",
    "    print(\"Exercise 1.6: \", student.get_avg_grade())\n",
    "    print(\"Exercise 1.7: \", student.name +\", \"+  student.gender + \", \" + str(student.data_sheet.get_course()) + \", \" + student.image_url)\n",
    "    \n",
    "\n",
    "    "
   ]
  },
  {
   "cell_type": "markdown",
   "metadata": {},
   "source": [
    "## Solution part 2"
   ]
  }
 ],
 "metadata": {
  "kernelspec": {
   "display_name": "Python 3",
   "language": "python",
   "name": "python3"
  },
  "language_info": {
   "codemirror_mode": {
    "name": "ipython",
    "version": 3
   },
   "file_extension": ".py",
   "mimetype": "text/x-python",
   "name": "python",
   "nbconvert_exporter": "python",
   "pygments_lexer": "ipython3",
   "version": "3.7.6"
  }
 },
 "nbformat": 4,
 "nbformat_minor": 4
}
